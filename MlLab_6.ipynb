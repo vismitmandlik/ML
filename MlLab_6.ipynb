{
  "nbformat": 4,
  "nbformat_minor": 0,
  "metadata": {
    "colab": {
      "provenance": [],
      "authorship_tag": "ABX9TyOmBSy8Y6a8XmA6HbVAu3CE",
      "include_colab_link": true
    },
    "kernelspec": {
      "name": "python3",
      "display_name": "Python 3"
    },
    "language_info": {
      "name": "python"
    }
  },
  "cells": [
    {
      "cell_type": "markdown",
      "metadata": {
        "id": "view-in-github",
        "colab_type": "text"
      },
      "source": [
        "<a href=\"https://colab.research.google.com/github/vismitmandlik/ML/blob/main/MlLab_6.ipynb\" target=\"_parent\"><img src=\"https://colab.research.google.com/assets/colab-badge.svg\" alt=\"Open In Colab\"/></a>"
      ]
    },
    {
      "cell_type": "code",
      "execution_count": null,
      "metadata": {
        "id": "2BZV7lktPT4L"
      },
      "outputs": [],
      "source": [
        "from keras.datasets import mnist"
      ]
    },
    {
      "cell_type": "code",
      "source": [
        "(x_train, y_train), (x_test, y_test) = mnist.load_data()"
      ],
      "metadata": {
        "colab": {
          "base_uri": "https://localhost:8080/"
        },
        "id": "P1Gf4SPsPkVd",
        "outputId": "b37e8b73-db08-4693-d696-f17f02ee32a0"
      },
      "execution_count": null,
      "outputs": [
        {
          "output_type": "stream",
          "name": "stdout",
          "text": [
            "Downloading data from https://storage.googleapis.com/tensorflow/tf-keras-datasets/mnist.npz\n",
            "11490434/11490434 [==============================] - 1s 0us/step\n"
          ]
        }
      ]
    },
    {
      "cell_type": "code",
      "source": [
        "print(x_train.shape)\n",
        "print(y_train.shape)\n",
        "print(x_test.shape)\n",
        "print(y_test.shape)"
      ],
      "metadata": {
        "colab": {
          "base_uri": "https://localhost:8080/"
        },
        "id": "XBP_3Nf6Pzi_",
        "outputId": "65a1531f-5d1d-47a4-c567-417cf425a3eb"
      },
      "execution_count": null,
      "outputs": [
        {
          "output_type": "stream",
          "name": "stdout",
          "text": [
            "(60000, 28, 28)\n",
            "(60000,)\n",
            "(10000, 28, 28)\n",
            "(10000,)\n"
          ]
        }
      ]
    },
    {
      "cell_type": "code",
      "source": [
        "import matplotlib.pyplot as plt\n",
        "plt.imshow(x_train[7,:,:].reshape(28,28), cmap='gray')\n",
        "plt.show()"
      ],
      "metadata": {
        "colab": {
          "base_uri": "https://localhost:8080/",
          "height": 430
        },
        "id": "SpJbv237P8Wa",
        "outputId": "df864676-d375-47b0-8464-4b7904cbed39"
      },
      "execution_count": null,
      "outputs": [
        {
          "output_type": "display_data",
          "data": {
            "text/plain": [
              "<Figure size 640x480 with 1 Axes>"
            ],
            "image/png": "[encoded data removed]"
          },
          "metadata": {}
        }
      ]
    },
    {
      "cell_type": "code",
      "source": [
        "from keras.utils import to_categorical\n",
        "y_train_encoded = to_categorical(y_train)\n",
        "y_test_encoded = to_categorical(y_test)"
      ],
      "metadata": {
        "id": "Av-m-YiPRF-U"
      },
      "execution_count": null,
      "outputs": []
    },
    {
      "cell_type": "code",
      "source": [
        "y_train_encoded[7] #one-haut vector"
      ],
      "metadata": {
        "colab": {
          "base_uri": "https://localhost:8080/"
        },
        "id": "-FUWJAG5S2A_",
        "outputId": "a3991f80-8023-49bd-daff-d7d47464b1ae"
      },
      "execution_count": null,
      "outputs": [
        {
          "output_type": "execute_result",
          "data": {
            "text/plain": [
              "array([0., 0., 0., 1., 0., 0., 0., 0., 0., 0.], dtype=float32)"
            ]
          },
          "metadata": {},
          "execution_count": 16
        }
      ]
    },
    {
      "cell_type": "code",
      "source": [
        "#Normailze the image\n",
        "x_train_norm = ( x_train / 255 ) - 0.5\n",
        "x_test_norm = ( x_test / 255 ) - 0.5"
      ],
      "metadata": {
        "id": "md5P9zGhTN7R"
      },
      "execution_count": null,
      "outputs": []
    },
    {
      "cell_type": "code",
      "source": [
        "print(x_train_norm.shape)\n",
        "print(x_train[1,1,1], x_train_norm[1,1,1])"
      ],
      "metadata": {
        "colab": {
          "base_uri": "https://localhost:8080/"
        },
        "id": "TJFuh9TeTe0I",
        "outputId": "de75e12d-297e-4385-ed5b-a47b1608616a"
      },
      "execution_count": null,
      "outputs": [
        {
          "output_type": "stream",
          "name": "stdout",
          "text": [
            "(60000, 28, 28)\n",
            "0 -0.5\n"
          ]
        }
      ]
    },
    {
      "cell_type": "code",
      "source": [
        "#Flatten the image\n",
        "x_train_images = x_train_norm.reshape((-1, 784))\n",
        "x_test_images = x_test_norm.reshape((-1, 784))"
      ],
      "metadata": {
        "id": "Xuq56-M-Twoc"
      },
      "execution_count": null,
      "outputs": []
    },
    {
      "cell_type": "code",
      "source": [
        "print(x_train.shape)\n",
        "print(y_train.shape)\n",
        "print(x_test.shape)\n",
        "print(y_test.shape)"
      ],
      "metadata": {
        "colab": {
          "base_uri": "https://localhost:8080/"
        },
        "id": "8YC-nqwXUPln",
        "outputId": "f0321d15-5c8e-4925-89c8-874392cead27"
      },
      "execution_count": null,
      "outputs": [
        {
          "output_type": "stream",
          "name": "stdout",
          "text": [
            "(60000, 28, 28)\n",
            "(60000,)\n",
            "(10000, 28, 28)\n",
            "(10000,)\n"
          ]
        }
      ]
    },
    {
      "cell_type": "code",
      "source": [
        "from keras.models import Sequential\n",
        "from keras.layers import Dense\n",
        "model = Sequential()"
      ],
      "metadata": {
        "id": "t0T_eiNgUXWF"
      },
      "execution_count": null,
      "outputs": []
    },
    {
      "cell_type": "code",
      "source": [
        "model.add(Dense(64, input_dim=784, activation='relu'))\n",
        "model.add(Dense(32, activation='relu'))\n",
        "model.add(Dense(10, activation='softmax')) #output"
      ],
      "metadata": {
        "id": "S0D16nWOUlK1"
      },
      "execution_count": null,
      "outputs": []
    },
    {
      "cell_type": "code",
      "source": [
        "model.compile(loss='categorical_crossentropy', optimizer='adam', metrics=['accuracy'])\n",
        "model.summary()"
      ],
      "metadata": {
        "colab": {
          "base_uri": "https://localhost:8080/"
        },
        "id": "tNKPkgtBU9KB",
        "outputId": "b14c9721-0751-443a-9b06-bdf78161b29b"
      },
      "execution_count": null,
      "outputs": [
        {
          "output_type": "stream",
          "name": "stdout",
          "text": [
            "Model: \"sequential_1\"\n",
            "_________________________________________________________________\n",
            " Layer (type)                Output Shape              Param #   \n",
            "=================================================================\n",
            " dense_3 (Dense)             (None, 64)                50240     \n",
            "                                                                 \n",
            " dense_4 (Dense)             (None, 32)                2080      \n",
            "                                                                 \n",
            " dense_5 (Dense)             (None, 310)               10230     \n",
            "                                                                 \n",
            " dense_6 (Dense)             (None, 64)                19904     \n",
            "                                                                 \n",
            " dense_7 (Dense)             (None, 32)                2080      \n",
            "                                                                 \n",
            " dense_8 (Dense)             (None, 10)                330       \n",
            "                                                                 \n",
            "=================================================================\n",
            "Total params: 84,864\n",
            "Trainable params: 84,864\n",
            "Non-trainable params: 0\n",
            "_________________________________________________________________\n"
          ]
        }
      ]
    },
    {
      "cell_type": "code",
      "source": [
        "model.fit(x_train_images, y_train_encoded, epochs=20, batch_size=16)"
      ],
      "metadata": {
        "colab": {
          "base_uri": "https://localhost:8080/"
        },
        "id": "KmeBjcDHVeqH",
        "outputId": "c0697815-ebaa-4947-aa6f-2720f8abc3b9"
      },
      "execution_count": null,
      "outputs": [
        {
          "output_type": "stream",
          "name": "stdout",
          "text": [
            "Epoch 1/20\n",
            "3750/3750 [==============================] - 13s 3ms/step - loss: 0.5112 - accuracy: 0.8433\n",
            "Epoch 2/20\n",
            "3750/3750 [==============================] - 14s 4ms/step - loss: 0.2101 - accuracy: 0.9390\n",
            "Epoch 3/20\n",
            "3750/3750 [==============================] - 18s 5ms/step - loss: 0.1644 - accuracy: 0.9507\n",
            "Epoch 4/20\n",
            "3750/3750 [==============================] - 20s 5ms/step - loss: 0.1413 - accuracy: 0.9583\n",
            "Epoch 5/20\n",
            "3750/3750 [==============================] - 21s 6ms/step - loss: 0.1277 - accuracy: 0.9617\n",
            "Epoch 6/20\n",
            "3750/3750 [==============================] - 14s 4ms/step - loss: 0.1142 - accuracy: 0.9663\n",
            "Epoch 7/20\n",
            "3750/3750 [==============================] - 16s 4ms/step - loss: 0.1061 - accuracy: 0.9695\n",
            "Epoch 8/20\n",
            "3750/3750 [==============================] - 19s 5ms/step - loss: 0.0994 - accuracy: 0.9704\n",
            "Epoch 9/20\n",
            "3043/3750 [=======================>......] - ETA: 2s - loss: 0.0906 - accuracy: 0.9729"
          ]
        }
      ]
    },
    {
      "cell_type": "code",
      "source": [
        "scores = model.evaluate(x_test_images, y_test_encoded)\n",
        "print(\"\\nAccuracy: %.2f%% \" % (scores[1]*100))"
      ],
      "metadata": {
        "colab": {
          "base_uri": "https://localhost:8080/"
        },
        "id": "BqL987jgQh89",
        "outputId": "609c92cb-afa1-4d13-d6d0-83820e945015"
      },
      "execution_count": null,
      "outputs": [
        {
          "output_type": "stream",
          "name": "stdout",
          "text": [
            "313/313 [==============================] - 1s 2ms/step - loss: 0.1275 - accuracy: 0.9689\n",
            "\n",
            "Accuracy: 96.89% \n"
          ]
        }
      ]
    },
    {
      "cell_type": "code",
      "source": [
        "model.save_weights('mnistmodel.h5')\n",
        "model.load_weights('mnistmodel.h5')"
      ],
      "metadata": {
        "id": "3ZOZgoUUZDXV"
      },
      "execution_count": null,
      "outputs": []
    }
  ]
}